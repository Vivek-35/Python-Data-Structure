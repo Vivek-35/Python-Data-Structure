{
  "nbformat": 4,
  "nbformat_minor": 0,
  "metadata": {
    "colab": {
      "provenance": []
    },
    "kernelspec": {
      "name": "python3",
      "display_name": "Python 3"
    },
    "language_info": {
      "name": "python"
    }
  },
  "cells": [
    {
      "cell_type": "markdown",
      "source": [
        "# **Data Types and Structures Questions**\n"
      ],
      "metadata": {
        "id": "dyeWLVYmnJcZ"
      }
    },
    {
      "cell_type": "markdown",
      "source": [
        "1. What are data structures, and why are they important?\n",
        "   - Data structures are ways of organizing and storing data efficiently\n",
        "     for easy access and modification. They are important because they optimize data management, improve algorithm performance, and enable efficient problem-solving in programming and data analysis. Examples include arrays, linked lists, stacks, queues, trees, and graphs.\n",
        "2. Explain the difference between mutable and immutable data types with\n",
        "   examples.\n",
        "   - Mutable Data Types -> These can be modified after creation. Changes\n",
        "     occur in place without creating a new object.\n"
      ],
      "metadata": {
        "id": "qMztU_uvnRMt"
      }
    },
    {
      "cell_type": "code",
      "source": [
        "#list\n",
        "my_list = [1, 2, 3]\n",
        "my_list[0] = 10\n",
        "print(my_list)\n",
        "\n",
        "#dict\n",
        "my_dict = {'a': 1}\n",
        "my_dict['a'] = 2\n",
        "print(my_dict)"
      ],
      "metadata": {
        "colab": {
          "base_uri": "https://localhost:8080/"
        },
        "id": "SLxathP6o01c",
        "outputId": "030d5e8b-22c4-479c-f996-31f00c65b382"
      },
      "execution_count": 4,
      "outputs": [
        {
          "output_type": "stream",
          "name": "stdout",
          "text": [
            "[10, 2, 3]\n",
            "{'a': 2}\n"
          ]
        }
      ]
    },
    {
      "cell_type": "markdown",
      "source": [
        "  - Immutable Data Types -> These cannot be changed after creation.\n",
        "     Any modification creates a new object."
      ],
      "metadata": {
        "id": "6_h_k6tIqCHm"
      }
    },
    {
      "cell_type": "code",
      "source": [
        "#tuple\n",
        "my_tuple = (1, 2, 3)\n",
        "my_tuple[0] = 10\n",
        "print(my_tuple)\n",
        "\n",
        "\n",
        "#string\n",
        "my_str = \"hello\"\n",
        "my_str[0] = 'H'\n",
        "print(my_str)"
      ],
      "metadata": {
        "colab": {
          "base_uri": "https://localhost:8080/",
          "height": 211
        },
        "id": "vuUu_1P2qK_1",
        "outputId": "1769bf51-d4be-4340-c8d6-1dc91acf7fb5"
      },
      "execution_count": 5,
      "outputs": [
        {
          "output_type": "error",
          "ename": "TypeError",
          "evalue": "'tuple' object does not support item assignment",
          "traceback": [
            "\u001b[0;31m---------------------------------------------------------------------------\u001b[0m",
            "\u001b[0;31mTypeError\u001b[0m                                 Traceback (most recent call last)",
            "\u001b[0;32m<ipython-input-5-35f2e123bfa0>\u001b[0m in \u001b[0;36m<cell line: 0>\u001b[0;34m()\u001b[0m\n\u001b[1;32m      1\u001b[0m \u001b[0;31m#tuple\u001b[0m\u001b[0;34m\u001b[0m\u001b[0;34m\u001b[0m\u001b[0m\n\u001b[1;32m      2\u001b[0m \u001b[0mmy_tuple\u001b[0m \u001b[0;34m=\u001b[0m \u001b[0;34m(\u001b[0m\u001b[0;36m1\u001b[0m\u001b[0;34m,\u001b[0m \u001b[0;36m2\u001b[0m\u001b[0;34m,\u001b[0m \u001b[0;36m3\u001b[0m\u001b[0;34m)\u001b[0m\u001b[0;34m\u001b[0m\u001b[0;34m\u001b[0m\u001b[0m\n\u001b[0;32m----> 3\u001b[0;31m \u001b[0mmy_tuple\u001b[0m\u001b[0;34m[\u001b[0m\u001b[0;36m0\u001b[0m\u001b[0;34m]\u001b[0m \u001b[0;34m=\u001b[0m \u001b[0;36m10\u001b[0m\u001b[0;34m\u001b[0m\u001b[0;34m\u001b[0m\u001b[0m\n\u001b[0m\u001b[1;32m      4\u001b[0m \u001b[0mprint\u001b[0m\u001b[0;34m(\u001b[0m\u001b[0mmy_tuple\u001b[0m\u001b[0;34m)\u001b[0m\u001b[0;34m\u001b[0m\u001b[0;34m\u001b[0m\u001b[0m\n\u001b[1;32m      5\u001b[0m \u001b[0;34m\u001b[0m\u001b[0m\n",
            "\u001b[0;31mTypeError\u001b[0m: 'tuple' object does not support item assignment"
          ]
        }
      ]
    },
    {
      "cell_type": "markdown",
      "source": [
        "3. What are the main differences betwen lists and tuples in Python?\n",
        "   - Lists are mutable, allowing modification after creation, while tuples\n",
        "     are immutable and cannot be changed. Lists have dynamic memory allocation, making them slower, whereas tuples are faster due to static memory allocation. Lists use more memory, while tuples are more memory-efficient.\n",
        "4. Describe how dictionaries store data.\n",
        "   - Dictionaries in Python store data as key-value pairs using a hash\n",
        "     table internally. Each key is hashed to generate an index, allowing for fast lookups, insertions, and deletions. Keys must be unique and immutable (e.g., strings, numbers, or tuples), while values can be of any data type. This structure enables efficient data retrieval in constant time, on average.\n",
        "5. Why might you use a set instead of a list in Python?\n",
        "   - A set is used instead of a list when we need unique elements and\n",
        "     fast lookups. Sets automatically remove duplicates and provide O(1) average time complexity for membership tests, whereas lists require O(n) search time. However, sets are unordered, unlike lists, which maintain element order.\n",
        "6. What is a string in python, and how is it different from a list?\n",
        "   - A string in Python is an immutable sequence of characters, while a\n",
        "     list is a mutable collection of elements (which can be of any data type). Strings cannot be modified in place, whereas lists can be changed dynamically. Additionally, lists support operations like item reassignment and removal, which strings do not.\n",
        "7. How do tuples ensure data integrity in Python?\n",
        "   - Tuples ensure data integrity in Python by being immutable, meaning\n",
        "     their elements cannot be changed, added, or removed after creation. This prevents accidental modifications, making tuples ideal for storing constant data, ensuring reliability, and enhancing security in applications where data consistency is crucial.\n",
        "8. What is a hash table and, how does it relate to dictionaries in Python?\n",
        "   - A hash table is a data structure that stores key-value pairs using a\n",
        "     hashing function to map keys to unique indices for fast retrieval. In Python, dictionaries are implemented using hash tables, allowing O(1) average-time complexity for lookups, insertions, and deletions. Each key is hashed to determine its storage location, ensuring efficient data access.\n",
        "9. Can lists contain different data types in Python?\n",
        "   - Yes, lists in Python can contain different data types. A single list  can store integers, floats, strings, booleans, other lists, tuples,\n",
        "     dictionaries, or even custom objects, making them highly flexible.\n",
        "     For example:\n",
        "     my_list = [10, \"hello\", 3.14, True, [1, 2, 3], {\"key\": \"value\"}]\n",
        "10. Explain why strings are immutable in Python?\n",
        "    - Strings are immutable in Python to enhance performance, security,\n",
        "      and memory efficiency. Since strings are widely used, immutability allows Python to optimize memory usage by interning (reusing common strings). It also ensures thread safety, preventing unintended modifications. Any change to a string creates a new object instead of modifying the original.\n",
        "11. What advantages do dictionaries offer over lists for certain task?\n",
        "    - Dictionaries offer faster lookups (O(1) average time complexity)\n",
        "      using keys, while lists require O(n) search time. They allow key-value pairing, making data retrieval more intuitive. Dictionaries are ideal for tasks needing quick access, unique keys, and structured data, whereas lists are better for ordered sequences.\n",
        "12. Describe a scenario where using a tuple would be preferable over lists.\n",
        "    - A tuple is preferable over a list when data integrity and\n",
        "      immutability are required. For example, storing coordinates (latitude, longitude) in a GPS application ensures the values remain unchanged.\n",
        "      \n",
        "\n",
        "\n",
        "\n",
        "\n",
        "\n",
        "\n",
        "\n"
      ],
      "metadata": {
        "id": "sgxenZhQrTpG"
      }
    },
    {
      "cell_type": "code",
      "source": [
        "coordinates = (40.7128, -74.0060)  # Immutable location data\n"
      ],
      "metadata": {
        "id": "YY7koKqiu6TL"
      },
      "execution_count": 2,
      "outputs": []
    },
    {
      "cell_type": "markdown",
      "source": [
        "13. How do sets handle duplicate values in Python?\n",
        "    - Sets in Python automatically remove duplicate values, ensuring each\n",
        "      element is unique. When elements are added to a set, Python internally checks for duplicates and discards them."
      ],
      "metadata": {
        "id": "LhDMFcOovBlM"
      }
    },
    {
      "cell_type": "code",
      "source": [
        "my_set = {1, 2, 2, 3, 4, 4}\n",
        "print(my_set)"
      ],
      "metadata": {
        "colab": {
          "base_uri": "https://localhost:8080/"
        },
        "id": "zENUgwb_vjHp",
        "outputId": "68f44744-e39f-43b4-e680-c8d7b3c6a6c4"
      },
      "execution_count": 3,
      "outputs": [
        {
          "output_type": "stream",
          "name": "stdout",
          "text": [
            "{1, 2, 3, 4}\n"
          ]
        }
      ]
    },
    {
      "cell_type": "markdown",
      "source": [
        "14. How does the \"in\" keyword work differently for lists and dictionaries?\n",
        "    - In Lists -> It checks if a value exists in the list, requiring an O\n",
        "      (n) linear search in the worst case.\n",
        "    - In Dictionaries -> It checks if a key exists (not values) using a\n",
        "      hash table, making lookups O(1) on average."
      ],
      "metadata": {
        "id": "GCXZQdaDvqL-"
      }
    },
    {
      "cell_type": "code",
      "source": [
        "#in list\n",
        "my_list = [10, 20, 30]\n",
        "print(20 in my_list)  # True\n",
        "\n",
        "#in dictionaries\n",
        "my_dict = {\"a\": 1, \"b\": 2}\n",
        "print(\"a\" in my_dict)  # True\n",
        "print(1 in my_dict)    # False (checks keys, not values)\n"
      ],
      "metadata": {
        "colab": {
          "base_uri": "https://localhost:8080/"
        },
        "id": "nOzYVkb0w3tK",
        "outputId": "42c35ba3-3790-4ca5-f27d-81c6bf9f47c8"
      },
      "execution_count": 4,
      "outputs": [
        {
          "output_type": "stream",
          "name": "stdout",
          "text": [
            "True\n",
            "True\n",
            "False\n"
          ]
        }
      ]
    },
    {
      "cell_type": "markdown",
      "source": [
        "15. Can you modify the elements of a tuple? Explain why or why not.\n",
        "    - No, we cannot modify the elements of a tuple because tuples are\n",
        "      immutable in Python. Once created, their elements cannot be changed, added, or removed. This immutability ensures data integrity, optimizes performance, and allows tuples to be used as keys in dictionaries.\n",
        "      However, if a tuple contains a mutable object (e.g., a list), the contents of that object can be modified."
      ],
      "metadata": {
        "id": "klUiLK3lxJDq"
      }
    },
    {
      "cell_type": "code",
      "source": [
        "my_tuple = (1, [2, 3])\n",
        "my_tuple[1].append(4)\n",
        "print(my_tuple)\n"
      ],
      "metadata": {
        "colab": {
          "base_uri": "https://localhost:8080/"
        },
        "id": "8VC_cbLH62Rz",
        "outputId": "14cf707d-c31c-4abd-ccc9-7f63d4b35312"
      },
      "execution_count": 5,
      "outputs": [
        {
          "output_type": "stream",
          "name": "stdout",
          "text": [
            "(1, [2, 3, 4])\n"
          ]
        }
      ]
    },
    {
      "cell_type": "markdown",
      "source": [
        "16. what is a nested dictionaries, and give an example of its use cases.\n",
        "    - A nested dictionary is a dictionary that contains another dictionary\n",
        "      as its value. It allows hierarchical data storage, making it useful for organizing complex data structures."
      ],
      "metadata": {
        "id": "ULObt_vG6-Xi"
      }
    },
    {
      "cell_type": "code",
      "source": [
        "users = {\n",
        "    \"user1\": {\"name\": \"Alice\", \"age\": 25, \"email\": \"alice@example.com\"},\n",
        "    \"user2\": {\"name\": \"Bob\", \"age\": 30, \"email\": \"bob@example.com\"}\n",
        "}\n",
        "print(users[\"user1\"][\"email\"])\n"
      ],
      "metadata": {
        "colab": {
          "base_uri": "https://localhost:8080/"
        },
        "id": "bY5-QrlC7t82",
        "outputId": "55e06e9b-99da-48a3-ebe3-140533d53a29"
      },
      "execution_count": 6,
      "outputs": [
        {
          "output_type": "stream",
          "name": "stdout",
          "text": [
            "alice@example.com\n"
          ]
        }
      ]
    },
    {
      "cell_type": "markdown",
      "source": [
        "17. Describe the time complexity of accessing element in a dictionary.\n",
        "    - Accessing an element in a dictionary has an average time complexity\n",
        "      of O(1) due to its hash table implementation, which allows direct lookup of keys. However, in the worst case (O(n)), hash collisions may require scanning multiple entries."
      ],
      "metadata": {
        "id": "Gm0A2ctl720m"
      }
    },
    {
      "cell_type": "code",
      "source": [
        "my_dict = {\"a\": 1, \"b\": 2, \"c\": 3}\n",
        "print(my_dict[\"b\"])  # O(1) average case\n"
      ],
      "metadata": {
        "colab": {
          "base_uri": "https://localhost:8080/"
        },
        "id": "FRDEjB2c8doL",
        "outputId": "e41fcbc1-7c82-4447-aaae-6fdfe928e871"
      },
      "execution_count": 7,
      "outputs": [
        {
          "output_type": "stream",
          "name": "stdout",
          "text": [
            "2\n"
          ]
        }
      ]
    },
    {
      "cell_type": "markdown",
      "source": [
        "18. In what situations are lists preferred over dictionaries?\n",
        "    - Lists are preferred over dictionaries when order matters, sequential\n",
        "      access is needed, or when storing homogeneous data without requiring key-value pairs. They are ideal for iterating over elements, maintaining duplicates, and using indexing efficiently.\n",
        "19. Why are dictionaries considered unordered, and how does that affect\n",
        "     data retrieval?\n",
        "    - Dictionaries were historically considered unordered because they\n",
        "      stored key-value pairs in a way that did not preserve insertion order. However, since Python 3.7, dictionaries maintain insertion order, though they are still optimized for fast lookups rather than ordered retrieval.\n",
        "      Effect on Data Retrieval:\n",
        "        - Fast lookups (O(1)) regardless of order\n",
        "        - Iteration follows insertion order (Python 3.7+), but reordering\n",
        "          keys dynamically is not straightforward\n",
        "        - Not ideal for positional access like lists (e.g., dict[1]\n",
        "          doesn’t retrieve the second item)"
      ],
      "metadata": {
        "id": "7Fz_ZNIm8mOd"
      }
    },
    {
      "cell_type": "code",
      "source": [
        "my_dict = {\"b\": 2, \"a\": 1, \"c\": 3}\n",
        "print(my_dict)\n"
      ],
      "metadata": {
        "colab": {
          "base_uri": "https://localhost:8080/"
        },
        "id": "2JedDO7M-G9r",
        "outputId": "58abfa12-75b5-415b-f1b3-bd9904cf0ddd"
      },
      "execution_count": 8,
      "outputs": [
        {
          "output_type": "stream",
          "name": "stdout",
          "text": [
            "{'b': 2, 'a': 1, 'c': 3}\n"
          ]
        }
      ]
    },
    {
      "cell_type": "markdown",
      "source": [
        "20. Explain the difference between a list and a dictionary in terms of\n",
        "     data retrieval.\n",
        "    - The key difference between lists and dictionaries in terms of data\n",
        "      retrieval lies in their access methods and efficiency:\n",
        "        - Lists:\n",
        "          - Use index-based access (O(1)) for direct retrieval.\n",
        "          - Searching for an element requires O(n) time in the worst case.\n",
        "        - Dictionaries:\n",
        "          - Use key-based access (O(1) average case) due to hash table\n",
        "            implementation.\n",
        "          - Lookups are faster than lists when searching for values based\n",
        "            on keys."
      ],
      "metadata": {
        "id": "h4gZp389-NG8"
      }
    },
    {
      "cell_type": "code",
      "source": [
        "#list\n",
        "my_list = [10, 20, 30]\n",
        "print(my_list[1])\n",
        "\n",
        "\n",
        "#dictionary\n",
        "my_dict = {\"a\": 10, \"b\": 20}\n",
        "print(my_dict[\"b\"])\n"
      ],
      "metadata": {
        "colab": {
          "base_uri": "https://localhost:8080/"
        },
        "id": "JimLevkj_PP9",
        "outputId": "0773a09f-2187-4330-e9e1-2f221606725f"
      },
      "execution_count": 9,
      "outputs": [
        {
          "output_type": "stream",
          "name": "stdout",
          "text": [
            "20\n",
            "20\n"
          ]
        }
      ]
    },
    {
      "cell_type": "markdown",
      "source": [
        "# **Practical Questions**"
      ],
      "metadata": {
        "id": "_5yqAS7__lkg"
      }
    },
    {
      "cell_type": "markdown",
      "source": [
        "1. Write a code to create a string with your name and print it."
      ],
      "metadata": {
        "id": "_wsgURDv_tvI"
      }
    },
    {
      "cell_type": "code",
      "source": [
        "name = \"Vivek Kumar\"\n",
        "print(name)\n"
      ],
      "metadata": {
        "colab": {
          "base_uri": "https://localhost:8080/"
        },
        "id": "8OfopAEDBUoU",
        "outputId": "74ae7b4e-ffec-42dd-a003-fbb0f5da3aa0"
      },
      "execution_count": 10,
      "outputs": [
        {
          "output_type": "stream",
          "name": "stdout",
          "text": [
            "Vivek Kumar\n"
          ]
        }
      ]
    },
    {
      "cell_type": "markdown",
      "source": [
        "2. Write a code to find the length of the string \"Hello World\"."
      ],
      "metadata": {
        "id": "n_xIEMKeBfaf"
      }
    },
    {
      "cell_type": "code",
      "source": [
        "text = \"Hello World\"\n",
        "length = len(text)\n",
        "print(length)\n"
      ],
      "metadata": {
        "colab": {
          "base_uri": "https://localhost:8080/"
        },
        "id": "baHD06Q5B0RH",
        "outputId": "6a0d6453-5b45-41de-cbd8-dd8e1f023921"
      },
      "execution_count": 11,
      "outputs": [
        {
          "output_type": "stream",
          "name": "stdout",
          "text": [
            "11\n"
          ]
        }
      ]
    },
    {
      "cell_type": "markdown",
      "source": [
        "3. Write a code to slice the first 3 characters from the string \"Python\n",
        "   Programming\"."
      ],
      "metadata": {
        "id": "zGKiZTXeB5B9"
      }
    },
    {
      "cell_type": "code",
      "source": [
        "text = \"Python Programming\"\n",
        "sliced_text = text[:3]\n",
        "print(sliced_text)\n"
      ],
      "metadata": {
        "colab": {
          "base_uri": "https://localhost:8080/"
        },
        "id": "CfHwbCW-CX2B",
        "outputId": "4ce4fb44-01b0-4bd5-8e52-3e94987b2950"
      },
      "execution_count": 12,
      "outputs": [
        {
          "output_type": "stream",
          "name": "stdout",
          "text": [
            "Pyt\n"
          ]
        }
      ]
    },
    {
      "cell_type": "markdown",
      "source": [
        "4. Write a code to convert the string \"hello\" to uppercase."
      ],
      "metadata": {
        "id": "0pfBKbjoCe0N"
      }
    },
    {
      "cell_type": "code",
      "source": [
        "text = \"hello\"\n",
        "uppercase_text = text.upper()\n",
        "print(uppercase_text)\n"
      ],
      "metadata": {
        "colab": {
          "base_uri": "https://localhost:8080/"
        },
        "id": "3MrarcxACvXd",
        "outputId": "16b0bb0b-ee45-4380-e444-d493325baf07"
      },
      "execution_count": 13,
      "outputs": [
        {
          "output_type": "stream",
          "name": "stdout",
          "text": [
            "HELLO\n"
          ]
        }
      ]
    },
    {
      "cell_type": "markdown",
      "source": [
        "5. Write a code to replace the word \"apple\" with \"orange\" in the string \"I\n",
        "   like apple\"."
      ],
      "metadata": {
        "id": "2Zg08HljC5Cn"
      }
    },
    {
      "cell_type": "code",
      "source": [
        "original_string = \"I like apple\"\n",
        "modified_string = original_string.replace(\"apple\", \"orange\")\n",
        "\n",
        "print(modified_string)"
      ],
      "metadata": {
        "colab": {
          "base_uri": "https://localhost:8080/"
        },
        "id": "xpkAoP82LKq6",
        "outputId": "ac6a83f7-96c6-42b3-fc4f-f20ed9fbdd8e"
      },
      "execution_count": 14,
      "outputs": [
        {
          "output_type": "stream",
          "name": "stdout",
          "text": [
            "I like orange\n"
          ]
        }
      ]
    },
    {
      "cell_type": "markdown",
      "source": [
        "6. Write a code to create a list with numbers 1 to 5 and print it."
      ],
      "metadata": {
        "id": "F420yW9LL2V5"
      }
    },
    {
      "cell_type": "code",
      "source": [
        "number_list = list(range(1, 6))\n",
        "\n",
        "print(number_list)"
      ],
      "metadata": {
        "colab": {
          "base_uri": "https://localhost:8080/"
        },
        "id": "SMokl5HgMI3C",
        "outputId": "5c3a0380-eb73-45bb-c576-43955baae079"
      },
      "execution_count": 15,
      "outputs": [
        {
          "output_type": "stream",
          "name": "stdout",
          "text": [
            "[1, 2, 3, 4, 5]\n"
          ]
        }
      ]
    },
    {
      "cell_type": "markdown",
      "source": [
        "7. Write a code to append the number 10 to the list [1, 2, 3, 4]."
      ],
      "metadata": {
        "id": "UyaPBEMRNRQ5"
      }
    },
    {
      "cell_type": "code",
      "source": [
        "number_list = [1, 2, 3, 4]\n",
        "number_list.append(10)\n",
        "print(number_list)"
      ],
      "metadata": {
        "colab": {
          "base_uri": "https://localhost:8080/"
        },
        "id": "WilyrVfpNnbJ",
        "outputId": "914ce000-e960-4f2f-882e-94840af1706d"
      },
      "execution_count": 16,
      "outputs": [
        {
          "output_type": "stream",
          "name": "stdout",
          "text": [
            "[1, 2, 3, 4, 10]\n"
          ]
        }
      ]
    },
    {
      "cell_type": "markdown",
      "source": [
        "8. Write a code to remove the number 3 from the list [1, 2, 3, 4, 5]."
      ],
      "metadata": {
        "id": "r_vQjeufN3_X"
      }
    },
    {
      "cell_type": "code",
      "source": [
        "number_list = [1, 2, 3, 4, 5]\n",
        "number_list.remove(3)\n",
        "print(number_list)"
      ],
      "metadata": {
        "colab": {
          "base_uri": "https://localhost:8080/"
        },
        "id": "FJHsqE34OJRF",
        "outputId": "a052802b-b738-49e0-d724-9f7c0662ff97"
      },
      "execution_count": 17,
      "outputs": [
        {
          "output_type": "stream",
          "name": "stdout",
          "text": [
            "[1, 2, 4, 5]\n"
          ]
        }
      ]
    },
    {
      "cell_type": "markdown",
      "source": [
        "9. Write a code to access the second element in the list ['a', 'b', 'c', 'd']."
      ],
      "metadata": {
        "id": "VEfC4urdOUnj"
      }
    },
    {
      "cell_type": "code",
      "source": [
        "my_list = ['a', 'b', 'c', 'd']\n",
        "second_element = my_list[1]\n",
        "print(second_element)"
      ],
      "metadata": {
        "colab": {
          "base_uri": "https://localhost:8080/"
        },
        "id": "YkBcO8ykO53D",
        "outputId": "c9495013-bc9f-492f-8861-9803643fd956"
      },
      "execution_count": 18,
      "outputs": [
        {
          "output_type": "stream",
          "name": "stdout",
          "text": [
            "b\n"
          ]
        }
      ]
    },
    {
      "cell_type": "markdown",
      "source": [
        "10. Write a code to reverse the list [10, 20, 30, 40, 50]."
      ],
      "metadata": {
        "id": "HIe60brfPIcW"
      }
    },
    {
      "cell_type": "code",
      "source": [
        "my_list = [10, 20, 30, 40, 50]\n",
        "my_list.reverse()\n",
        "print(my_list)"
      ],
      "metadata": {
        "colab": {
          "base_uri": "https://localhost:8080/"
        },
        "id": "IQV5sbJ2PWyf",
        "outputId": "d4735dd6-42ca-4be3-9554-dbaee285bb37"
      },
      "execution_count": 19,
      "outputs": [
        {
          "output_type": "stream",
          "name": "stdout",
          "text": [
            "[50, 40, 30, 20, 10]\n"
          ]
        }
      ]
    },
    {
      "cell_type": "markdown",
      "source": [
        "11. Write a code to create a tuple with the elements 100, 200, 300, and\n",
        "     print it."
      ],
      "metadata": {
        "id": "BlQh1MYcPnqh"
      }
    },
    {
      "cell_type": "code",
      "source": [
        "my_tuple = (100, 200, 300)\n",
        "print(my_tuple)"
      ],
      "metadata": {
        "colab": {
          "base_uri": "https://localhost:8080/"
        },
        "id": "3lX2AlqwRYUe",
        "outputId": "be907470-c848-4cd4-aedc-a8a7897497e5"
      },
      "execution_count": 20,
      "outputs": [
        {
          "output_type": "stream",
          "name": "stdout",
          "text": [
            "(100, 200, 300)\n"
          ]
        }
      ]
    },
    {
      "cell_type": "markdown",
      "source": [
        "12. Write a code to access the second-to-last element of the tuple ('red',\n",
        "     'green', 'blue', 'yellow')."
      ],
      "metadata": {
        "id": "_o6WbqQ-RkOL"
      }
    },
    {
      "cell_type": "code",
      "source": [
        "my_tuple = ('red', 'green', 'blue', 'yellow')\n",
        "second_to_last_element = my_tuple[-2]\n",
        "print(second_to_last_element)"
      ],
      "metadata": {
        "colab": {
          "base_uri": "https://localhost:8080/"
        },
        "id": "KESjMNhISIef",
        "outputId": "581e2a47-60f5-4ae6-8abd-aea7c29b8b61"
      },
      "execution_count": 21,
      "outputs": [
        {
          "output_type": "stream",
          "name": "stdout",
          "text": [
            "blue\n"
          ]
        }
      ]
    },
    {
      "cell_type": "markdown",
      "source": [
        "13. Write a code to find the minimum number in the tuple (10, 20, 5, 15)."
      ],
      "metadata": {
        "id": "h6e0BJ5GSWDQ"
      }
    },
    {
      "cell_type": "code",
      "source": [
        "my_tuple = (10, 20, 5, 15)\n",
        "minimum_number = min(my_tuple)\n",
        "print(minimum_number)"
      ],
      "metadata": {
        "colab": {
          "base_uri": "https://localhost:8080/"
        },
        "id": "LRvWTe_vSpoK",
        "outputId": "f3ebbb41-6377-4c5a-dd21-a70b5290750c"
      },
      "execution_count": 22,
      "outputs": [
        {
          "output_type": "stream",
          "name": "stdout",
          "text": [
            "5\n"
          ]
        }
      ]
    },
    {
      "cell_type": "markdown",
      "source": [
        "14. Write a code to find the index of the element 'cat' in the tuple\n",
        "     ('dog', 'cat', 'rabbit')."
      ],
      "metadata": {
        "id": "oc5JIfdyS1yD"
      }
    },
    {
      "cell_type": "code",
      "source": [
        "my_tuple = ('dog', 'cat', 'rabbit')\n",
        "index_of_cat = my_tuple.index('cat')\n",
        "print(index_of_cat)"
      ],
      "metadata": {
        "colab": {
          "base_uri": "https://localhost:8080/"
        },
        "id": "Imr9-hXhTZ3M",
        "outputId": "54b07626-06fe-4fdb-b604-36b2d9004176"
      },
      "execution_count": 23,
      "outputs": [
        {
          "output_type": "stream",
          "name": "stdout",
          "text": [
            "1\n"
          ]
        }
      ]
    },
    {
      "cell_type": "markdown",
      "source": [
        "15. Write a code to create a tuple containing three different fruits and\n",
        "     check if \"kiwi\" is in it."
      ],
      "metadata": {
        "id": "eaiZgI9-TmAW"
      }
    },
    {
      "cell_type": "code",
      "source": [
        "# Create a tuple with three different fruits\n",
        "fruits = ('apple', 'banana', 'orange')\n",
        "\n",
        "# Check if \"kiwi\" is in the tuple\n",
        "is_kiwi_in_tuple = \"kiwi\" in fruits\n",
        "\n",
        "print(is_kiwi_in_tuple)"
      ],
      "metadata": {
        "colab": {
          "base_uri": "https://localhost:8080/"
        },
        "id": "5bIpvY_wUEov",
        "outputId": "0c82f45a-7c7c-4310-9201-9832e54d6b35"
      },
      "execution_count": 24,
      "outputs": [
        {
          "output_type": "stream",
          "name": "stdout",
          "text": [
            "False\n"
          ]
        }
      ]
    },
    {
      "cell_type": "markdown",
      "source": [
        "16. Write a code to create a set with the elements 'a', 'b', 'c' and print\n",
        "     it."
      ],
      "metadata": {
        "id": "H6Eg1lieUVdA"
      }
    },
    {
      "cell_type": "code",
      "source": [
        "my_set = {'a', 'b', 'c'}\n",
        "\n",
        "print(my_set)"
      ],
      "metadata": {
        "colab": {
          "base_uri": "https://localhost:8080/"
        },
        "id": "peX3OGCjUuYo",
        "outputId": "16fb0916-a2f5-4617-ced3-3701e5baae8c"
      },
      "execution_count": 25,
      "outputs": [
        {
          "output_type": "stream",
          "name": "stdout",
          "text": [
            "{'c', 'b', 'a'}\n"
          ]
        }
      ]
    },
    {
      "cell_type": "markdown",
      "source": [
        "17. Write a code to clear all elements from the set {1, 2, 3, 4, 5}."
      ],
      "metadata": {
        "id": "UClyZ4uNVR38"
      }
    },
    {
      "cell_type": "code",
      "source": [
        "my_set = {1, 2, 3, 4, 5}\n",
        "\n",
        "my_set.clear()\n",
        "\n",
        "print(my_set)"
      ],
      "metadata": {
        "colab": {
          "base_uri": "https://localhost:8080/"
        },
        "id": "iqbI7g3AVxpw",
        "outputId": "0026e687-c1af-4bb9-b2fb-2e45c686f4a9"
      },
      "execution_count": 27,
      "outputs": [
        {
          "output_type": "stream",
          "name": "stdout",
          "text": [
            "set()\n"
          ]
        }
      ]
    },
    {
      "cell_type": "markdown",
      "source": [
        "18. Write a code to remove the element 4 from the set {1, 2, 3, 4}."
      ],
      "metadata": {
        "id": "oP70VriPWAvZ"
      }
    },
    {
      "cell_type": "code",
      "source": [
        "my_set = {1, 2, 3, 4}\n",
        "\n",
        "my_set.remove(4)\n",
        "\n",
        "print(my_set)"
      ],
      "metadata": {
        "colab": {
          "base_uri": "https://localhost:8080/"
        },
        "id": "D1IxRgItWaJk",
        "outputId": "dadca641-3ba7-42b8-ec0c-fd1bec3c4141"
      },
      "execution_count": 28,
      "outputs": [
        {
          "output_type": "stream",
          "name": "stdout",
          "text": [
            "{1, 2, 3}\n"
          ]
        }
      ]
    },
    {
      "cell_type": "markdown",
      "source": [
        "19. Write a code to find the union of two sets {1, 2, 3} and {3, 4, 5}."
      ],
      "metadata": {
        "id": "3SKXM-hzWl_T"
      }
    },
    {
      "cell_type": "code",
      "source": [
        "# Define the two sets\n",
        "set1 = {1, 2, 3}\n",
        "set2 = {3, 4, 5}\n",
        "\n",
        "# Find the union of the two sets\n",
        "union_set = set1.union(set2)\n",
        "\n",
        "print(union_set)"
      ],
      "metadata": {
        "colab": {
          "base_uri": "https://localhost:8080/"
        },
        "id": "46QBEJJyW2ND",
        "outputId": "0606e136-9d0a-4112-9105-134d380d3a40"
      },
      "execution_count": 29,
      "outputs": [
        {
          "output_type": "stream",
          "name": "stdout",
          "text": [
            "{1, 2, 3, 4, 5}\n"
          ]
        }
      ]
    },
    {
      "cell_type": "markdown",
      "source": [
        "20. Write a code to find the intersection of two sets {1, 2, 3} and {2, 3,\n",
        "     4}."
      ],
      "metadata": {
        "id": "OgcC0fVtXDB5"
      }
    },
    {
      "cell_type": "code",
      "source": [
        "# Define the two sets\n",
        "set1 = {1, 2, 3}\n",
        "set2 = {2, 3, 4}\n",
        "\n",
        "# Find the intersection of the two sets\n",
        "intersection_set = set1.intersection(set2)\n",
        "\n",
        "print(intersection_set)"
      ],
      "metadata": {
        "colab": {
          "base_uri": "https://localhost:8080/"
        },
        "id": "YaFxE3VbXY99",
        "outputId": "fea7e7aa-e0a1-48bc-ce59-411f22acdf89"
      },
      "execution_count": 30,
      "outputs": [
        {
          "output_type": "stream",
          "name": "stdout",
          "text": [
            "{2, 3}\n"
          ]
        }
      ]
    },
    {
      "cell_type": "markdown",
      "source": [
        "21. Write a code to create a dictionary with te keys \"name\", \"age\", and\n",
        "     \"city\", and print it."
      ],
      "metadata": {
        "id": "aTgTdNVgXmFQ"
      }
    },
    {
      "cell_type": "code",
      "source": [
        "# Create a dictionary with keys \"name\", \"age\", and \"city\"\n",
        "my_dict = {\n",
        "    \"name\": \"Alice\",\n",
        "    \"age\": 30,\n",
        "    \"city\": \"New York\"\n",
        "}\n",
        "\n",
        "# Print the dictionary\n",
        "print(my_dict)"
      ],
      "metadata": {
        "colab": {
          "base_uri": "https://localhost:8080/"
        },
        "id": "CXAQh4aVZ5ZI",
        "outputId": "7ebde59f-ba03-4b44-eef9-1cfa0c84bfdf"
      },
      "execution_count": 31,
      "outputs": [
        {
          "output_type": "stream",
          "name": "stdout",
          "text": [
            "{'name': 'Alice', 'age': 30, 'city': 'New York'}\n"
          ]
        }
      ]
    },
    {
      "cell_type": "markdown",
      "source": [
        "22. Write a code to add a new key-value pair \"country\":\"USA\" to the\n",
        "     dictionary {'name':'john','age':25}."
      ],
      "metadata": {
        "id": "u5wMbccNaEDL"
      }
    },
    {
      "cell_type": "code",
      "source": [
        "# Original dictionary\n",
        "my_dict = {'name': 'john', 'age': 25}\n",
        "\n",
        "# Add a new key-value pair\n",
        "my_dict['country'] = 'USA'\n",
        "\n",
        "# Print the updated dictionary\n",
        "print(my_dict)"
      ],
      "metadata": {
        "colab": {
          "base_uri": "https://localhost:8080/"
        },
        "id": "024N3X6Oa7Fq",
        "outputId": "958cc866-ecf9-4335-8c78-a58ac66e5cdd"
      },
      "execution_count": 32,
      "outputs": [
        {
          "output_type": "stream",
          "name": "stdout",
          "text": [
            "{'name': 'john', 'age': 25, 'country': 'USA'}\n"
          ]
        }
      ]
    },
    {
      "cell_type": "markdown",
      "source": [
        "23. Write a code to access the value associated with the key \"name\" in the\n",
        "     dictionary{'name':'Alice','age':30}."
      ],
      "metadata": {
        "id": "sUOpR-2EbMDC"
      }
    },
    {
      "cell_type": "code",
      "source": [
        "# Original dictionary\n",
        "my_dict = {'name': 'Alice', 'age': 30}\n",
        "\n",
        "# Access the value associated with the key \"name\"\n",
        "name_value = my_dict['name']\n",
        "\n",
        "# Print the value\n",
        "print(name_value)"
      ],
      "metadata": {
        "colab": {
          "base_uri": "https://localhost:8080/"
        },
        "id": "yWZBlq8abxRu",
        "outputId": "203f83c9-2cd3-479d-a67e-4a54dd88c506"
      },
      "execution_count": 33,
      "outputs": [
        {
          "output_type": "stream",
          "name": "stdout",
          "text": [
            "Alice\n"
          ]
        }
      ]
    },
    {
      "cell_type": "markdown",
      "source": [
        "24. Write a code to remove the key \"age\" from the dictionary {'name':'Bob','age':22,'city':'New York'}."
      ],
      "metadata": {
        "id": "OGgi_0trb6zK"
      }
    },
    {
      "cell_type": "code",
      "source": [
        "# Original dictionary\n",
        "my_dict = {'name': 'Bob', 'age': 22, 'city': 'New York'}\n",
        "\n",
        "# Remove the key \"age\" using del\n",
        "del my_dict['age']\n",
        "\n",
        "# Print the updated dictionary\n",
        "print(my_dict)"
      ],
      "metadata": {
        "colab": {
          "base_uri": "https://localhost:8080/"
        },
        "id": "BuiKh1pRcdWS",
        "outputId": "4ca16579-8c36-43ca-bc01-ef4918fa902a"
      },
      "execution_count": 34,
      "outputs": [
        {
          "output_type": "stream",
          "name": "stdout",
          "text": [
            "{'name': 'Bob', 'city': 'New York'}\n"
          ]
        }
      ]
    },
    {
      "cell_type": "markdown",
      "source": [
        "25. Write a code to check if the key \"city\" exists in the dictionary\n",
        "    {'name':'Alice','city':'Paris'}."
      ],
      "metadata": {
        "id": "c1DkCk97cpof"
      }
    },
    {
      "cell_type": "code",
      "source": [
        "# Original dictionary\n",
        "my_dict = {'name': 'Alice', 'city': 'Paris'}\n",
        "\n",
        "# Check if the key \"city\" exists in the dictionary\n",
        "key_exists = 'city' in my_dict\n",
        "\n",
        "# Print the result\n",
        "print(key_exists)"
      ],
      "metadata": {
        "colab": {
          "base_uri": "https://localhost:8080/"
        },
        "id": "Jfpiq8A1dIW3",
        "outputId": "c10d6e9d-8130-4e85-d662-3face620e43d"
      },
      "execution_count": 35,
      "outputs": [
        {
          "output_type": "stream",
          "name": "stdout",
          "text": [
            "True\n"
          ]
        }
      ]
    },
    {
      "cell_type": "markdown",
      "source": [
        "26. Write a code to create a list, a tuple, and a dictionary and print\n",
        "     them all."
      ],
      "metadata": {
        "id": "Vknllm1hdXB9"
      }
    },
    {
      "cell_type": "code",
      "source": [
        "# Create a list\n",
        "my_list = [1, 2, 3, 4, 5]\n",
        "\n",
        "# Create a tuple\n",
        "my_tuple = (10, 20, 30)\n",
        "\n",
        "# Create a dictionary\n",
        "my_dict = {'name': 'Alice', 'age': 30, 'city': 'New York'}\n",
        "\n",
        "# Print the list, tuple, and dictionary\n",
        "print(\"List:\", my_list)\n",
        "print(\"Tuple:\", my_tuple)\n",
        "print(\"Dictionary:\", my_dict)"
      ],
      "metadata": {
        "colab": {
          "base_uri": "https://localhost:8080/"
        },
        "id": "JZ6dgzkRdoSm",
        "outputId": "4666c894-bba9-495b-d981-24166383eab7"
      },
      "execution_count": 36,
      "outputs": [
        {
          "output_type": "stream",
          "name": "stdout",
          "text": [
            "List: [1, 2, 3, 4, 5]\n",
            "Tuple: (10, 20, 30)\n",
            "Dictionary: {'name': 'Alice', 'age': 30, 'city': 'New York'}\n"
          ]
        }
      ]
    },
    {
      "cell_type": "markdown",
      "source": [
        "27. Write a code to create a list of 5 random numbers between 1 and 100, sort it in ascending order and print the result.(replaced)"
      ],
      "metadata": {
        "id": "bCV21fmGd-tY"
      }
    },
    {
      "cell_type": "code",
      "source": [
        "import random\n",
        "\n",
        "# Create a list of 5 random numbers between 1 and 100\n",
        "random_numbers = [random.randint(1, 100) for _ in range(5)]\n",
        "\n",
        "# Sort the list in ascending order\n",
        "random_numbers.sort()\n",
        "\n",
        "# Print the sorted list\n",
        "print(\"Sorted random numbers:\", random_numbers)"
      ],
      "metadata": {
        "colab": {
          "base_uri": "https://localhost:8080/"
        },
        "id": "IIz9c46eeePS",
        "outputId": "2308b6bd-14c6-4ee6-fc8e-7372979182ba"
      },
      "execution_count": 37,
      "outputs": [
        {
          "output_type": "stream",
          "name": "stdout",
          "text": [
            "Sorted random numbers: [8, 38, 78, 89, 90]\n"
          ]
        }
      ]
    },
    {
      "cell_type": "markdown",
      "source": [
        "28. Write a code to create a list with strings and print the element at\n",
        "     the third index."
      ],
      "metadata": {
        "id": "y7wTTiItenjZ"
      }
    },
    {
      "cell_type": "code",
      "source": [
        "# Create a list with strings\n",
        "my_list = [\"apple\", \"banana\", \"cherry\", \"date\", \"elderberry\"]\n",
        "\n",
        "# Access the element at the third index\n",
        "third_index_element = my_list[3]\n",
        "\n",
        "# Print the element at the third index\n",
        "print(\"Element at the third index:\", third_index_element)"
      ],
      "metadata": {
        "colab": {
          "base_uri": "https://localhost:8080/"
        },
        "id": "7INYYEs-e53O",
        "outputId": "c7713bf1-e176-4694-e179-780857a9987c"
      },
      "execution_count": 38,
      "outputs": [
        {
          "output_type": "stream",
          "name": "stdout",
          "text": [
            "Element at the third index: date\n"
          ]
        }
      ]
    },
    {
      "cell_type": "markdown",
      "source": [
        "29. Write a code to combine two dictionaries into one and print the result."
      ],
      "metadata": {
        "id": "yh9DRu7RfCbW"
      }
    },
    {
      "cell_type": "code",
      "source": [
        "# Define the two dictionaries\n",
        "dict1 = {'name': 'Alice', 'age': 30}\n",
        "dict2 = {'city': 'New York', 'country': 'USA'}\n",
        "\n",
        "# Combine the dictionaries using update()\n",
        "combined_dict = dict1.copy()  # Create a copy of dict1 to avoid modifying it\n",
        "combined_dict.update(dict2)\n",
        "\n",
        "# Print the combined dictionary\n",
        "print(\"Combined Dictionary (using update):\", combined_dict)"
      ],
      "metadata": {
        "colab": {
          "base_uri": "https://localhost:8080/"
        },
        "id": "fQ_ktBodfVff",
        "outputId": "10804d4e-4858-4446-9835-cf10eea24ceb"
      },
      "execution_count": 39,
      "outputs": [
        {
          "output_type": "stream",
          "name": "stdout",
          "text": [
            "Combined Dictionary (using update): {'name': 'Alice', 'age': 30, 'city': 'New York', 'country': 'USA'}\n"
          ]
        }
      ]
    },
    {
      "cell_type": "markdown",
      "source": [
        "30. Write a code to convert a list of strings into a set."
      ],
      "metadata": {
        "id": "7jdhiEsGffBp"
      }
    },
    {
      "cell_type": "code",
      "source": [
        "# Create a list of strings\n",
        "string_list = [\"apple\", \"banana\", \"cherry\", \"apple\", \"date\"]\n",
        "\n",
        "# Convert the list to a set\n",
        "string_set = set(string_list)\n",
        "\n",
        "# Print the resulting set\n",
        "print(\"Set from list of strings:\", string_set)"
      ],
      "metadata": {
        "colab": {
          "base_uri": "https://localhost:8080/"
        },
        "id": "oQBUhJeafqGv",
        "outputId": "b66c639f-4ede-492e-89e8-c367f1770928"
      },
      "execution_count": 40,
      "outputs": [
        {
          "output_type": "stream",
          "name": "stdout",
          "text": [
            "Set from list of strings: {'cherry', 'banana', 'apple', 'date'}\n"
          ]
        }
      ]
    }
  ]
}